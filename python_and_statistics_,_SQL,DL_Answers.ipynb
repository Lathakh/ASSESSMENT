{
  "nbformat": 4,
  "nbformat_minor": 0,
  "metadata": {
    "colab": {
      "provenance": [],
      "authorship_tag": "ABX9TyONN+j8+vkQWQS3HtI5t9UQ",
      "include_colab_link": true
    },
    "kernelspec": {
      "name": "python3",
      "display_name": "Python 3"
    },
    "language_info": {
      "name": "python"
    }
  },
  "cells": [
    {
      "cell_type": "markdown",
      "metadata": {
        "id": "view-in-github",
        "colab_type": "text"
      },
      "source": [
        "<a href=\"https://colab.research.google.com/github/Lathakh/ASSESSMENT/blob/main/python_and_statistics_%2C_SQL%2CDL_Answers.ipynb\" target=\"_parent\"><img src=\"https://colab.research.google.com/assets/colab-badge.svg\" alt=\"Open In Colab\"/></a>"
      ]
    },
    {
      "cell_type": "markdown",
      "source": [
        "# **In this notebook i have answer theory question python , statistics, DL ,SQL**"
      ],
      "metadata": {
        "id": "2vtDQOurIXjl"
      }
    },
    {
      "cell_type": "code",
      "execution_count": 3,
      "metadata": {
        "colab": {
          "base_uri": "https://localhost:8080/",
          "height": 356
        },
        "id": "LJZIIWIscOtW",
        "outputId": "57027131-0841-485a-e5f6-9627ba308fbd"
      },
      "outputs": [
        {
          "output_type": "error",
          "ename": "KeyError",
          "evalue": "'def'",
          "traceback": [
            "\u001b[0;31m---------------------------------------------------------------------------\u001b[0m",
            "\u001b[0;31mKeyError\u001b[0m                                  Traceback (most recent call last)",
            "\u001b[0;32m<ipython-input-3-6d0a41143caf>\u001b[0m in \u001b[0;36m<cell line: 15>\u001b[0;34m()\u001b[0m\n\u001b[1;32m     13\u001b[0m \u001b[0;34m\u001b[0m\u001b[0m\n\u001b[1;32m     14\u001b[0m \u001b[0minput_dict\u001b[0m \u001b[0;34m=\u001b[0m \u001b[0;34m{\u001b[0m\u001b[0;34m\"abc\"\u001b[0m\u001b[0;34m:\u001b[0m\u001b[0;34m{\u001b[0m\u001b[0;34m\"def\"\u001b[0m\u001b[0;34m:\u001b[0m\u001b[0;34m{\u001b[0m\u001b[0;34m\"ghi\"\u001b[0m\u001b[0;34m:\u001b[0m\u001b[0;34m{\u001b[0m\u001b[0;34m\"jkl\"\u001b[0m\u001b[0;34m:\u001b[0m\u001b[0;34m{\u001b[0m\u001b[0;34m\"mno\"\u001b[0m\u001b[0;34m:\u001b[0m\u001b[0;34m{\u001b[0m\u001b[0;34m\"pqr\"\u001b[0m\u001b[0;34m:\u001b[0m\u001b[0;34m{\u001b[0m\u001b[0;34m\"stu\"\u001b[0m\u001b[0;34m:\u001b[0m\u001b[0;34m{\u001b[0m\u001b[0;34m\"vwx\"\u001b[0m\u001b[0;34m:\u001b[0m\u001b[0;34m{\u001b[0m\u001b[0;34m\"yz\"\u001b[0m\u001b[0;34m:\u001b[0m\u001b[0;34m\"you are finally here !!!\"\u001b[0m\u001b[0;34m}\u001b[0m\u001b[0;34m}\u001b[0m\u001b[0;34m}\u001b[0m\u001b[0;34m}\u001b[0m\u001b[0;34m}\u001b[0m\u001b[0;34m}\u001b[0m\u001b[0;34m}\u001b[0m\u001b[0;34m}\u001b[0m\u001b[0;34m}\u001b[0m\u001b[0;34m\u001b[0m\u001b[0;34m\u001b[0m\u001b[0m\n\u001b[0;32m---> 15\u001b[0;31m \u001b[0moutput_dict\u001b[0m \u001b[0;34m=\u001b[0m \u001b[0mgenerate_output\u001b[0m\u001b[0;34m(\u001b[0m\u001b[0minput_dict\u001b[0m\u001b[0;34m)\u001b[0m\u001b[0;34m\u001b[0m\u001b[0;34m\u001b[0m\u001b[0m\n\u001b[0m\u001b[1;32m     16\u001b[0m \u001b[0;34m\u001b[0m\u001b[0m\n\u001b[1;32m     17\u001b[0m \u001b[0mprint\u001b[0m\u001b[0;34m(\u001b[0m\u001b[0moutput_dict\u001b[0m\u001b[0;34m)\u001b[0m\u001b[0;34m\u001b[0m\u001b[0;34m\u001b[0m\u001b[0m\n",
            "\u001b[0;32m<ipython-input-3-6d0a41143caf>\u001b[0m in \u001b[0;36mgenerate_output\u001b[0;34m(input_dict, current_key)\u001b[0m\n\u001b[1;32m      7\u001b[0m     \u001b[0;32mfor\u001b[0m \u001b[0mkey\u001b[0m\u001b[0;34m,\u001b[0m \u001b[0mvalue\u001b[0m \u001b[0;32min\u001b[0m \u001b[0minput_dict\u001b[0m\u001b[0;34m[\u001b[0m\u001b[0mcurrent_key\u001b[0m\u001b[0;34m]\u001b[0m\u001b[0;34m.\u001b[0m\u001b[0mitems\u001b[0m\u001b[0;34m(\u001b[0m\u001b[0;34m)\u001b[0m\u001b[0;34m:\u001b[0m\u001b[0;34m\u001b[0m\u001b[0;34m\u001b[0m\u001b[0m\n\u001b[1;32m      8\u001b[0m         \u001b[0moutput\u001b[0m\u001b[0;34m[\u001b[0m\u001b[0mcurrent_key\u001b[0m\u001b[0;34m]\u001b[0m\u001b[0;34m.\u001b[0m\u001b[0mappend\u001b[0m\u001b[0;34m(\u001b[0m\u001b[0mkey\u001b[0m\u001b[0;34m)\u001b[0m\u001b[0;34m\u001b[0m\u001b[0;34m\u001b[0m\u001b[0m\n\u001b[0;32m----> 9\u001b[0;31m         \u001b[0msub_output\u001b[0m \u001b[0;34m=\u001b[0m \u001b[0mgenerate_output\u001b[0m\u001b[0;34m(\u001b[0m\u001b[0mvalue\u001b[0m\u001b[0;34m,\u001b[0m \u001b[0mkey\u001b[0m\u001b[0;34m)\u001b[0m\u001b[0;34m\u001b[0m\u001b[0;34m\u001b[0m\u001b[0m\n\u001b[0m\u001b[1;32m     10\u001b[0m         \u001b[0moutput\u001b[0m\u001b[0;34m.\u001b[0m\u001b[0mupdate\u001b[0m\u001b[0;34m(\u001b[0m\u001b[0msub_output\u001b[0m\u001b[0;34m)\u001b[0m\u001b[0;34m\u001b[0m\u001b[0;34m\u001b[0m\u001b[0m\n\u001b[1;32m     11\u001b[0m \u001b[0;34m\u001b[0m\u001b[0m\n",
            "\u001b[0;32m<ipython-input-3-6d0a41143caf>\u001b[0m in \u001b[0;36mgenerate_output\u001b[0;34m(input_dict, current_key)\u001b[0m\n\u001b[1;32m      5\u001b[0m     \u001b[0moutput\u001b[0m \u001b[0;34m=\u001b[0m \u001b[0;34m{\u001b[0m\u001b[0mcurrent_key\u001b[0m\u001b[0;34m:\u001b[0m \u001b[0;34m[\u001b[0m\u001b[0;34m]\u001b[0m\u001b[0;34m}\u001b[0m\u001b[0;34m\u001b[0m\u001b[0;34m\u001b[0m\u001b[0m\n\u001b[1;32m      6\u001b[0m \u001b[0;34m\u001b[0m\u001b[0m\n\u001b[0;32m----> 7\u001b[0;31m     \u001b[0;32mfor\u001b[0m \u001b[0mkey\u001b[0m\u001b[0;34m,\u001b[0m \u001b[0mvalue\u001b[0m \u001b[0;32min\u001b[0m \u001b[0minput_dict\u001b[0m\u001b[0;34m[\u001b[0m\u001b[0mcurrent_key\u001b[0m\u001b[0;34m]\u001b[0m\u001b[0;34m.\u001b[0m\u001b[0mitems\u001b[0m\u001b[0;34m(\u001b[0m\u001b[0;34m)\u001b[0m\u001b[0;34m:\u001b[0m\u001b[0;34m\u001b[0m\u001b[0;34m\u001b[0m\u001b[0m\n\u001b[0m\u001b[1;32m      8\u001b[0m         \u001b[0moutput\u001b[0m\u001b[0;34m[\u001b[0m\u001b[0mcurrent_key\u001b[0m\u001b[0;34m]\u001b[0m\u001b[0;34m.\u001b[0m\u001b[0mappend\u001b[0m\u001b[0;34m(\u001b[0m\u001b[0mkey\u001b[0m\u001b[0;34m)\u001b[0m\u001b[0;34m\u001b[0m\u001b[0;34m\u001b[0m\u001b[0m\n\u001b[1;32m      9\u001b[0m         \u001b[0msub_output\u001b[0m \u001b[0;34m=\u001b[0m \u001b[0mgenerate_output\u001b[0m\u001b[0;34m(\u001b[0m\u001b[0mvalue\u001b[0m\u001b[0;34m,\u001b[0m \u001b[0mkey\u001b[0m\u001b[0;34m)\u001b[0m\u001b[0;34m\u001b[0m\u001b[0;34m\u001b[0m\u001b[0m\n",
            "\u001b[0;31mKeyError\u001b[0m: 'def'"
          ]
        }
      ],
      "source": [
        "\n",
        "def generate_output(input_dict, current_key=None):\n",
        "    if current_key is None:\n",
        "        current_key = list(input_dict.keys())[0]\n",
        "\n",
        "    output = {current_key: []}\n",
        "\n",
        "    for key, value in input_dict[current_key].items():\n",
        "        output[current_key].append(key)\n",
        "        sub_output = generate_output(value, key)\n",
        "        output.update(sub_output)\n",
        "\n",
        "    return output\n",
        "\n",
        "input_dict = {\"abc\":{\"def\":{\"ghi\":{\"jkl\":{\"mno\":{\"pqr\":{\"stu\":{\"vwx\":{\"yz\":\"you are finally here !!!\"}}}}}}}}}\n",
        "output_dict = generate_output(input_dict)\n",
        "\n",
        "print(output_dict)\n",
        "\n",
        "\n"
      ]
    },
    {
      "cell_type": "code",
      "source": [
        "def largest_minimum_distance(stalls, k):\n",
        "    stalls.sort()\n",
        "\n",
        "    def is_valid(distance):\n",
        "        horses_placed = 1\n",
        "        last_position = stalls[0]\n",
        "\n",
        "        for stall in stalls:\n",
        "            if stall - last_position >= distance:\n",
        "                horses_placed += 1\n",
        "                last_position = stall\n",
        "\n",
        "        return horses_placed >= k\n",
        "\n",
        "    low, high = 0, stalls[-1] - stalls[0]\n",
        "    result = 0\n",
        "\n",
        "    while low <= high:\n",
        "        mid = (low + high) // 2\n",
        "\n",
        "        if is_valid(mid):\n",
        "            result = mid\n",
        "            low = mid + 1\n",
        "        else:\n",
        "            high = mid - 1\n",
        "\n",
        "    return result\n",
        "\n",
        "# Example usage:\n",
        "stalls = [1, 2, 4, 8, 9]\n",
        "k = 3\n",
        "output = largest_minimum_distance(stalls, k)\n",
        "print(output)\n"
      ],
      "metadata": {
        "colab": {
          "base_uri": "https://localhost:8080/"
        },
        "id": "tqac0xK9eIk6",
        "outputId": "ac5baeb8-fffe-42fa-f8b8-a14f7ce46a5e"
      },
      "execution_count": 4,
      "outputs": [
        {
          "output_type": "stream",
          "name": "stdout",
          "text": [
            "3\n"
          ]
        }
      ]
    },
    {
      "cell_type": "markdown",
      "source": [],
      "metadata": {
        "id": "5essTWFxIVJ7"
      }
    },
    {
      "cell_type": "code",
      "source": [
        "def unique_quadruplets(nums, target):\n",
        "    nums.sort()\n",
        "    result = []\n",
        "\n",
        "    for a in range(len(nums) - 3):\n",
        "        if a > 0 and nums[a] == nums[a - 1]:\n",
        "            continue\n",
        "\n",
        "        for b in range(a + 1, len(nums) - 2):\n",
        "            if b > a + 1 and nums[b] == nums[b - 1]:\n",
        "                continue\n",
        "\n",
        "            left, right = b + 1, len(nums) - 1\n",
        "\n",
        "            while left < right:\n",
        "                current_sum = nums[a] + nums[b] + nums[left] + nums[right]\n",
        "\n",
        "                if current_sum == target:\n",
        "                    result.append([nums[a], nums[b], nums[left], nums[right]])\n",
        "                    left += 1\n",
        "                    right -= 1\n",
        "\n",
        "                    while left < right and nums[left] == nums[left - 1]:\n",
        "                        left += 1\n",
        "\n",
        "                    while left < right and nums[right] == nums[right + 1]:\n",
        "                        right -= 1\n",
        "                elif current_sum < target:\n",
        "                    left += 1\n",
        "                else:\n",
        "                    right -= 1\n",
        "\n",
        "    return result\n",
        "\n",
        "# Example usage:\n",
        "nums = [1, 0, -1, 0, -2, 2]\n",
        "target = 0\n",
        "output = unique_quadruplets(nums, target)\n",
        "print(output)\n"
      ],
      "metadata": {
        "colab": {
          "base_uri": "https://localhost:8080/"
        },
        "id": "Ch0MmqUgfugL",
        "outputId": "24f9aeb9-8a7f-44ff-fa6e-4b4bfb53c811"
      },
      "execution_count": 5,
      "outputs": [
        {
          "output_type": "stream",
          "name": "stdout",
          "text": [
            "[[-2, -1, 1, 2], [-2, 0, 0, 2], [-1, 0, 0, 1]]\n"
          ]
        }
      ]
    },
    {
      "cell_type": "code",
      "source": [],
      "metadata": {
        "id": "yFBXhgC-g64G"
      },
      "execution_count": null,
      "outputs": []
    },
    {
      "cell_type": "markdown",
      "source": [
        "# **SQL**"
      ],
      "metadata": {
        "id": "s5V2ZeZNhpJx"
      }
    },
    {
      "cell_type": "markdown",
      "source": [
        "SELECT * FROM runners\n",
        "\n",
        "WHERE id NOT IN (SELECT winner_id FROM races)\n",
        "\n",
        "\n",
        "This will return empty set because NOT IN condition contains any values that are null, then the outer query here will return an empty set.\n",
        "\n",
        "#This will work\n",
        "\n",
        "SELECT * FROM runners\n",
        "\n",
        "WHERE id NOT IN\n",
        "\n",
        "(SELECT winner_id FROM races WHERE winner_id IS NOT null)"
      ],
      "metadata": {
        "id": "2JXpmJqxhtT6"
      }
    },
    {
      "cell_type": "code",
      "source": [
        "2."
      ],
      "metadata": {
        "id": "Hne1LTQuhsXI"
      },
      "execution_count": null,
      "outputs": []
    },
    {
      "cell_type": "markdown",
      "source": [
        "2. select * from test_a\n",
        "except\n",
        "select * from test_b;"
      ],
      "metadata": {
        "id": "PJgc9GWRicwP"
      }
    },
    {
      "cell_type": "code",
      "source": [
        "3."
      ],
      "metadata": {
        "id": "Aavjuw2pie4n"
      },
      "execution_count": null,
      "outputs": []
    },
    {
      "cell_type": "markdown",
      "source": [
        "3.SELECT\n",
        "      u.user_id,\n",
        "      username,\n",
        "      training_id,\n",
        "      training_date,\n",
        "      count( user_training_id ) AS count\n",
        "  FROM users u JOIN training_details t ON t.user_id = u.user_id\n",
        "  GROUP BY u.user_id,\n",
        "           username,\n",
        "           training_id,\n",
        "           training_date\n",
        "  HAVING count( user_training_id ) > 1\n",
        "  ORDER BY training_date DESC;"
      ],
      "metadata": {
        "id": "g7DbIdmQi0y_"
      }
    },
    {
      "cell_type": "code",
      "source": [
        "4"
      ],
      "metadata": {
        "id": "TfL-eIOdi4p1"
      },
      "execution_count": null,
      "outputs": []
    },
    {
      "cell_type": "markdown",
      "source": [
        "select b.emp_id as \"Manager_Id\",\n",
        "          b.emp_name as \"Manager\",\n",
        "          avg(a.salary) as \"Average_Salary_Under_Manager\"\n",
        "from Employee a,\n",
        "     Employee b\n",
        "where a.manager_id = b.emp_id\n",
        "group by b.emp_id, b.emp_name\n",
        "order by b.emp_id;\n"
      ],
      "metadata": {
        "id": "p1s8yhCHjm23"
      }
    },
    {
      "cell_type": "code",
      "source": [],
      "metadata": {
        "id": "MhKEFGp7j2x5"
      },
      "execution_count": null,
      "outputs": []
    },
    {
      "cell_type": "markdown",
      "source": [
        "# **statistics**"
      ],
      "metadata": {
        "id": "USJS8myIkCyE"
      }
    },
    {
      "cell_type": "code",
      "source": [],
      "metadata": {
        "id": "pr7uGz9ukGt0"
      },
      "execution_count": null,
      "outputs": []
    },
    {
      "cell_type": "markdown",
      "source": [
        "2.\n",
        "\n",
        "There are many examples of data that do not follow a Gaussian (normal) or log-normal distribution. Some examples include:\n",
        "\n",
        "1. Power law distribution:\n",
        " This type of distribution is characterized by a heavy tail, meaning that there are a few very large values that occur with low probability.\n",
        "\n",
        "2. Exponential distribution:\n",
        "This distribution describes the time between events in a process that occurs at a constant average rate and is often used to model the decay of a radioactive substance.\n",
        "\n",
        "3. Pareto distribution:\n",
        " This distribution is often used to describe wealth distribution, where a small number of people hold a large proportion of the total wealth.\n",
        "\n",
        "4. Poisson distribution:\n",
        " This distribution is used to model the number of events occurring in a fixed interval of time or space, given a constant average rate of occurrence.\n",
        "\n",
        "Uniform distribution: In this distribution, all outcomes are equally likely, and the probability density function is constant within a given interval.\n",
        "\n",
        "Example: Income Distribution\n",
        "\n",
        "One common example of non-normally distributed data is the distribution of income. Income data often shows a right-skewed distribution, meaning that there are a few individuals with very high incomes, creating a tail on the right side of the distribution. Most people fall within the middle to lower income ranges. This distribution does not conform to a normal distribution because it lacks symmetry.\n",
        "\n",
        "In summary, income distribution is an example of non-normally distributed data characterized by skewness, where the majority of observations are clustered toward the lower or middle income levels, and a few high-income earners create a right-skewed tail."
      ],
      "metadata": {
        "id": "9qqOHg4DlxT_"
      }
    },
    {
      "cell_type": "code",
      "source": [
        "3."
      ],
      "metadata": {
        "id": "dY8TnsJym2tY"
      },
      "execution_count": null,
      "outputs": []
    },
    {
      "cell_type": "code",
      "source": [
        "3."
      ],
      "metadata": {
        "id": "xWyy5F_3nLQr"
      },
      "execution_count": null,
      "outputs": []
    },
    {
      "cell_type": "markdown",
      "source": [
        "The five-number summary is a set of descriptive statistics that provides a concise summary of the distribution of a dataset. It consists of five values: the minimum, the first quartile (Q1), the median (Q2), the third quartile (Q3), and the maximum. These values help to understand the spread and central tendency of the data.\n",
        "\n",
        "Here's an example using a dataset of exam scores:\n",
        "\n",
        "45\n",
        ",\n",
        "50\n",
        ",\n",
        "55\n",
        ",\n",
        "60\n",
        ",\n",
        "65\n",
        ",\n",
        "70\n",
        ",\n",
        "75\n",
        ",\n",
        "80\n",
        ",\n",
        "85\n",
        ",\n",
        "90\n",
        "45,50,55,60,65,70,75,80,85,90\n",
        "\n",
        "Minimum: The smallest value in the dataset is\n",
        "45\n",
        "45.\n",
        "Q1 (First Quartile): The median of the lower half of the dataset (excluding the median) is\n",
        "55\n",
        "55.\n",
        "Median (Q2): The middle value of the dataset is\n",
        "70\n",
        "70.\n",
        "Q3 (Third Quartile): The median of the upper half of the dataset (excluding the median) is\n",
        "85\n",
        "85.\n",
        "Maximum: The largest value in the dataset is\n",
        "90\n",
        "90.\n",
        "So, the five-number summary for this dataset is\n",
        "45\n",
        ",\n",
        "55\n",
        ",\n",
        "70\n",
        ",\n",
        "85\n",
        ",\n",
        "90\n",
        "45,55,70,85,90."
      ],
      "metadata": {
        "id": "MKtyyZrFpTWg"
      }
    },
    {
      "cell_type": "code",
      "source": [
        "DEEP LEARNING"
      ],
      "metadata": {
        "id": "wkRHl36epVAd"
      },
      "execution_count": null,
      "outputs": []
    },
    {
      "cell_type": "markdown",
      "source": [
        "#DEEP LEARNING"
      ],
      "metadata": {
        "id": "yrIWvUTw4ycw"
      }
    },
    {
      "cell_type": "code",
      "source": [
        "1. QUESTION"
      ],
      "metadata": {
        "id": "crAmGxul41Jz"
      },
      "execution_count": null,
      "outputs": []
    },
    {
      "cell_type": "markdown",
      "source": [
        "**Define the Problem:**\n",
        "\n",
        "Clearly understand the problem you want to solve and determine whether DL is the right approach. DL is suitable for tasks such as image recognition, natural language processing, and speech recognition.\n",
        "\n",
        "**Data Collection and Preprocessing** :\n",
        "\n",
        "Gather a diverse and representative dataset for training, validation, and testing.\n",
        "Clean and preprocess the data to handle missing values, outliers, and ensure it's suitable for DL.\n",
        "\n",
        "**Data Splitting:**\n",
        "\n",
        "Split the dataset into training, validation, and test sets to train and evaluate the model.\n",
        "\n",
        "**Model Selection:**\n",
        "\n",
        "Choose a DL architecture that suits your problem. Common architectures include Convolutional Neural Networks**(CNNs)** for image tasks, Recurrent Neural Networks (**RNNs)** for sequential data, and Transformer models for natural language processing.\n",
        "\n",
        "**Model Building:**\n",
        "\n",
        "Implement the chosen DL model using a deep learning framework like TensorFlow or PyTorch.\n",
        "Configure the layers, activation functions, and other hyperparameters.\n",
        "\n",
        "**Training:**\n",
        "\n",
        "Train the model on the training dataset using an appropriate optimization algorithm.\n",
        "Monitor training metrics and adjust hyperparameters as needed.\n",
        "Validate the model on the validation set to prevent overfitting.\n",
        "\n",
        "**Evaluation:**\n",
        "\n",
        "Evaluate the trained model on the test set to assess its performance on unseen data.\n",
        "Analyze metrics such as accuracy, precision, recall, F1 score, or other relevant metrics based on your problem.\n",
        "\n",
        "**Fine-Tuning:**\n",
        "\n",
        "If the model's performance is not satisfactory, consider fine-tuning the architecture, hyperparameters, or collecting additional data.\n",
        "\n",
        "Deployment:\n",
        "**bold text**\n",
        "Once satisfied with the model's performance, deploy it in a real-world setting.\n",
        "Integrate the model into your application, whether it's a web service, mobile app, or other systems.\n",
        "\n",
        "**Monitoring and Maintenance:**\n",
        "\n",
        "Implement monitoring mechanisms to track the model's performance in the production environment.\n",
        "\n",
        "\n",
        "\n",
        "B)\n",
        "\n",
        "\n",
        "\n",
        "**Introducing Non-linearity:**\n",
        " This non-linearity allows the network to learn and approximate complex, non-linear relationships in the data.\n",
        "\n",
        "**Learning Complex Patterns:**\n",
        " Activation functions enable ANNs to model and understand these complexities.\n",
        "\n",
        "**Enabling Stacking of Layers:**\n",
        "Stacking layers creates hierarchical representations of features, allowing the network to learn abstract and hierarchical features from the input data.\n",
        "\n",
        "**Handling Variations in Data:**\n",
        "Activation functions help the network handle variations in the input data. Different activation functions have different characteristics, and choosing the appropriate one depends on the nature of the problem."
      ],
      "metadata": {
        "id": "-GyLYbDv4-vl"
      }
    },
    {
      "cell_type": "code",
      "source": [],
      "metadata": {
        "id": "iY7PcxhF7Ioy"
      },
      "execution_count": null,
      "outputs": []
    },
    {
      "cell_type": "markdown",
      "source": [],
      "metadata": {
        "id": "NG2oGkMZITSB"
      }
    }
  ]
}